{
 "cells": [
  {
   "cell_type": "markdown",
   "id": "e623e5fb",
   "metadata": {},
   "source": [
    "### 10) Write a program to find the smallest number using a stack.¶"
   ]
  },
  {
   "cell_type": "code",
   "execution_count": 1,
   "id": "9490f816",
   "metadata": {},
   "outputs": [
    {
     "name": "stdout",
     "output_type": "stream",
     "text": [
      "How many numbers: 6\n",
      "Enter number: 50\n",
      "Enter number: 60\n",
      "Enter number: 80\n",
      "Enter number: 10\n",
      "Enter number: 20\n",
      "Enter number: 40\n",
      "Smallest number in the list is :   10\n"
     ]
    }
   ],
   "source": [
    "First = []\n",
    "num = int(input('How many numbers: '))\n",
    "for n in range(num):\n",
    "    numbers = int(input('Enter number: '))\n",
    "    First.append(numbers)\n",
    "print(\"Smallest number in the list is :  \", min(First))"
   ]
  },
  {
   "cell_type": "code",
   "execution_count": null,
   "id": "b20af472",
   "metadata": {},
   "outputs": [],
   "source": []
  }
 ],
 "metadata": {
  "kernelspec": {
   "display_name": "Python 3 (ipykernel)",
   "language": "python",
   "name": "python3"
  },
  "language_info": {
   "codemirror_mode": {
    "name": "ipython",
    "version": 3
   },
   "file_extension": ".py",
   "mimetype": "text/x-python",
   "name": "python",
   "nbconvert_exporter": "python",
   "pygments_lexer": "ipython3",
   "version": "3.9.5"
  }
 },
 "nbformat": 4,
 "nbformat_minor": 5
}
