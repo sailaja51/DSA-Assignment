{
 "cells": [
  {
   "cell_type": "markdown",
   "id": "ef0a063f",
   "metadata": {},
   "source": [
    "### Q1. Write a program to find all pairs of an integer array whose sum is equal to a given number?"
   ]
  },
  {
   "cell_type": "code",
   "execution_count": 2,
   "id": "6b882218",
   "metadata": {},
   "outputs": [
    {
     "name": "stdout",
     "output_type": "stream",
     "text": [
      "( 1 9 )\n",
      "( 2 8 )\n",
      "( 2 8 )\n",
      "( 3 7 )\n",
      "( 4 6 )\n",
      "( 4 6 )\n",
      "( 5 5 )\n",
      "( 6 4 )\n",
      "( 8 2 )\n",
      "( 2 8 )\n",
      "( 6 4 )\n"
     ]
    }
   ],
   "source": [
    "def sum_of_two_numbers(a,num,sum):\n",
    "    for i in range(num):\n",
    "        for j in range(i+1,num):\n",
    "            if a[i]+a[j] == sum:\n",
    "                print('(',a[i],a[j],')',sep = ' ')\n",
    "# Drive the code                \n",
    "a = [1,2,3,4,5,6,7,8,9,2,5,6,8,4]\n",
    "num = len(a)\n",
    "sum = 10\n",
    "sum_of_two_numbers(a,num,sum)"
   ]
  }
 ],
 "metadata": {
  "kernelspec": {
   "display_name": "Python 3 (ipykernel)",
   "language": "python",
   "name": "python3"
  },
  "language_info": {
   "codemirror_mode": {
    "name": "ipython",
    "version": 3
   },
   "file_extension": ".py",
   "mimetype": "text/x-python",
   "name": "python",
   "nbconvert_exporter": "python",
   "pygments_lexer": "ipython3",
   "version": "3.9.5"
  }
 },
 "nbformat": 4,
 "nbformat_minor": 5
}
