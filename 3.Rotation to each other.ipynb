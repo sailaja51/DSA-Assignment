{
 "cells": [
  {
   "cell_type": "markdown",
   "id": "7d63c117",
   "metadata": {},
   "source": [
    "### Write a program to check if two strings are a rotation of each other?"
   ]
  },
  {
   "cell_type": "code",
   "execution_count": 1,
   "id": "4e47f9f6",
   "metadata": {},
   "outputs": [
    {
     "name": "stdout",
     "output_type": "stream",
     "text": [
      "Strings are not rotating to each other\n"
     ]
    }
   ],
   "source": [
    "def rotates(s1, s2):\n",
    "    size1 = len(s1)\n",
    "    size2 = len(s2)\n",
    "    if size1 != size2:\n",
    "        return False\n",
    "    s = s1 + s1\n",
    "    return s2 in s\n",
    "s1 = \"ABCD\"\n",
    "s2 = \"DCAB\"\n",
    "if rotates(s1,s2):\n",
    "    print (\"Strings are rotating to each other\")\n",
    "else:\n",
    "    print (\"Strings are not rotating to each other\")"
   ]
  },
  {
   "cell_type": "code",
   "execution_count": null,
   "id": "3eb915d0",
   "metadata": {},
   "outputs": [],
   "source": []
  }
 ],
 "metadata": {
  "kernelspec": {
   "display_name": "Python 3 (ipykernel)",
   "language": "python",
   "name": "python3"
  },
  "language_info": {
   "codemirror_mode": {
    "name": "ipython",
    "version": 3
   },
   "file_extension": ".py",
   "mimetype": "text/x-python",
   "name": "python",
   "nbconvert_exporter": "python",
   "pygments_lexer": "ipython3",
   "version": "3.9.5"
  }
 },
 "nbformat": 4,
 "nbformat_minor": 5
}
