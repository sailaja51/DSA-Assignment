{
 "cells": [
  {
   "cell_type": "markdown",
   "id": "c3d5d550",
   "metadata": {},
   "source": [
    "### Write a program to check if all the brackets are closed in a given code snippet."
   ]
  },
  {
   "cell_type": "code",
   "execution_count": 1,
   "id": "4082ba8a",
   "metadata": {},
   "outputs": [
    {
     "name": "stdout",
     "output_type": "stream",
     "text": [
      "Parenthesis are Not Balanced\n"
     ]
    }
   ],
   "source": [
    "def balancing(expr):\n",
    "    stack = []\n",
    "    for char in expr:\n",
    "        if char in [\"(\", \"{\", \"[\"]:\n",
    "            stack.append(char)\n",
    "        else:\n",
    "            if not stack:\n",
    "                return False\n",
    "            current_char = stack.pop()\n",
    "            if current_char == '(':\n",
    "                if char != \")\":\n",
    "                    return False\n",
    "            if current_char == '{':\n",
    "                if char != \"}\":\n",
    "                    return False\n",
    "            if current_char == '[':\n",
    "                if char != \"]\":\n",
    "                    return False\n",
    "    if stack:\n",
    "        return False\n",
    "    return True\n",
    "\n",
    "if __name__ == \"__main__\":\n",
    "    expr = \"{()}[)]\"\n",
    "\n",
    "    if balancing(expr):\n",
    "        print(\"Parenthesis are Balanced\")\n",
    "    else:\n",
    "        print(\"Parenthesis are Not Balanced\")"
   ]
  },
  {
   "cell_type": "code",
   "execution_count": null,
   "id": "3e21ce99",
   "metadata": {},
   "outputs": [],
   "source": []
  }
 ],
 "metadata": {
  "kernelspec": {
   "display_name": "Python 3 (ipykernel)",
   "language": "python",
   "name": "python3"
  },
  "language_info": {
   "codemirror_mode": {
    "name": "ipython",
    "version": 3
   },
   "file_extension": ".py",
   "mimetype": "text/x-python",
   "name": "python",
   "nbconvert_exporter": "python",
   "pygments_lexer": "ipython3",
   "version": "3.9.5"
  }
 },
 "nbformat": 4,
 "nbformat_minor": 5
}
