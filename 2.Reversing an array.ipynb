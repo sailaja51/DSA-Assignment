{
 "cells": [
  {
   "cell_type": "markdown",
   "id": "f9b99945",
   "metadata": {},
   "source": [
    "### Q2. Write a program to reverse an array in place? In place means you cannot create a new array. You have to update the original array."
   ]
  },
  {
   "cell_type": "code",
   "execution_count": 1,
   "id": "6ac02b22",
   "metadata": {},
   "outputs": [
    {
     "name": "stdout",
     "output_type": "stream",
     "text": [
      "[10, 20, 3, 5, 6, 40, 80]\n",
      "Reversed Array\n",
      "[80, 40, 6, 5, 3, 20, 10]\n"
     ]
    }
   ],
   "source": [
    "def reverseArray(array,first,last):\n",
    "    while first < last:\n",
    "        array[first],array[last] = array[last],array[first]\n",
    "        first += 1\n",
    "        last -= 1\n",
    "array = [10,20,3,5,6,40,80,]\n",
    "print(array)\n",
    "reverseArray(array,0,6)\n",
    "print(\"Reversed Array\")\n",
    "print(array)"
   ]
  },
  {
   "cell_type": "code",
   "execution_count": 2,
   "id": "4a857589",
   "metadata": {},
   "outputs": [
    {
     "data": {
      "text/plain": [
       "[10, 9, 6, 4, 2, 5, 1]"
      ]
     },
     "execution_count": 2,
     "metadata": {},
     "output_type": "execute_result"
    }
   ],
   "source": [
    "def Array(array):\n",
    "    return array[::-1]\n",
    "array = [1,5,2,4,6,9,10]\n",
    "Array(array)"
   ]
  },
  {
   "cell_type": "code",
   "execution_count": 4,
   "id": "e1adb4b5",
   "metadata": {},
   "outputs": [],
   "source": []
  }
 ],
 "metadata": {
  "kernelspec": {
   "display_name": "Python 3 (ipykernel)",
   "language": "python",
   "name": "python3"
  },
  "language_info": {
   "codemirror_mode": {
    "name": "ipython",
    "version": 3
   },
   "file_extension": ".py",
   "mimetype": "text/x-python",
   "name": "python",
   "nbconvert_exporter": "python",
   "pygments_lexer": "ipython3",
   "version": "3.9.5"
  }
 },
 "nbformat": 4,
 "nbformat_minor": 5
}
